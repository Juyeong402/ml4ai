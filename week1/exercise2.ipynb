{
  "nbformat": 4,
  "nbformat_minor": 0,
  "metadata": {
    "colab": {
      "provenance": [],
      "authorship_tag": "ABX9TyPVSwbNYdMQdHE2Fg2RRzUK",
      "include_colab_link": true
    },
    "kernelspec": {
      "name": "python3",
      "display_name": "Python 3"
    },
    "language_info": {
      "name": "python"
    }
  },
  "cells": [
    {
      "cell_type": "markdown",
      "metadata": {
        "id": "view-in-github",
        "colab_type": "text"
      },
      "source": [
        "<a href=\"https://colab.research.google.com/github/Juyeong402/ml4ai/blob/main/week1/exercise2.ipynb\" target=\"_parent\"><img src=\"https://colab.research.google.com/assets/colab-badge.svg\" alt=\"Open In Colab\"/></a>"
      ]
    },
    {
      "cell_type": "code",
      "execution_count": 1,
      "metadata": {
        "colab": {
          "base_uri": "https://localhost:8080/"
        },
        "id": "ZQQRVglVjYZ9",
        "outputId": "7ac98e33-3b81-4f01-e702-8b2f9d48dc58"
      },
      "outputs": [
        {
          "output_type": "stream",
          "name": "stdout",
          "text": [
            "Mounted at /content/drive\n"
          ]
        }
      ],
      "source": [
        "from google.colab import drive\n",
        "drive.mount('/content/drive')3"
      ]
    },
    {
      "cell_type": "code",
      "source": [
        "cd \"/content/drive/MyDrive\""
      ],
      "metadata": {
        "colab": {
          "base_uri": "https://localhost:8080/"
        },
        "id": "wodBiZPHkD6u",
        "outputId": "825d3993-9983-4d40-e145-031140b70f54"
      },
      "execution_count": 2,
      "outputs": [
        {
          "output_type": "stream",
          "name": "stdout",
          "text": [
            "/content/drive/MyDrive\n"
          ]
        }
      ]
    },
    {
      "cell_type": "code",
      "source": [
        "!git clone https://github.com/stefmolin/Hands-On-Data-Analysis-with-Pandas-2nd-edition.git"
      ],
      "metadata": {
        "colab": {
          "base_uri": "https://localhost:8080/"
        },
        "id": "wL-WwLlOkOe4",
        "outputId": "fe60ae9b-57f2-4ef8-c8fe-e82b61e3b923"
      },
      "execution_count": 4,
      "outputs": [
        {
          "output_type": "stream",
          "name": "stdout",
          "text": [
            "Cloning into 'Hands-On-Data-Analysis-with-Pandas-2nd-edition'...\n",
            "remote: Enumerating objects: 3415, done.\u001b[K\n",
            "remote: Counting objects: 100% (3415/3415), done.\u001b[K\n",
            "remote: Compressing objects: 100% (1235/1235), done.\u001b[K\n",
            "remote: Total 3415 (delta 2128), reused 3358 (delta 2117), pack-reused 0\u001b[K\n",
            "Receiving objects: 100% (3415/3415), 75.18 MiB | 15.02 MiB/s, done.\n",
            "Resolving deltas: 100% (2128/2128), done.\n",
            "Updating files: 100% (216/216), done.\n"
          ]
        }
      ]
    },
    {
      "cell_type": "code",
      "source": [
        "import os\n",
        "import sys\n",
        "sys.path.append(os.path.abspath('/content/drive/MyDrive/Hands-On-Data-Analysis-with-Pandas-2nd-edition/visual/aids'))"
      ],
      "metadata": {
        "id": "6YEylEOklSpH"
      },
      "execution_count": 5,
      "outputs": []
    }
  ]
}